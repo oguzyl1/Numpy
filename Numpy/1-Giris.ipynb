{
 "cells": [
  {
   "cell_type": "markdown",
   "id": "98d3d944",
   "metadata": {},
   "source": [
    "# Numpy Nedir?\n",
    "        Python için bir bilimsel hesaplama kütüphanesidir ve çok boyutlu dizilerle yüksek performanslı matematiksel işlemler yapmayı sağlar. Bu kütüphane, lineer cebir, rastgele sayı üretimi ve Fourier dönüşümleri gibi geniş bir matematiksel işlev yelpazesini destekler. Ayrıca, verimli veri işleme yetenekleri sunar ve genellikle veri analizi ve bilimsel hesaplama alanlarında kullanılır.\n",
    "        \n",
    "## Listeler ile farkı ne ?\n",
    "        Listeler, Python'da genel amaçlı veri saklamak için kullanılırken, NumPy dizileri özellikle matematiksel işlemler ve büyük veri setleri üzerinde çalışmak için optimize edilmiş veri yapılarıdır. NumPy dizileri, bellek kullanımında daha verimli ve işlemlerde daha hızlıdır, bu nedenle büyük veri işleme ve bilimsel hesaplama için tercih edilir."
   ]
  },
  {
   "cell_type": "markdown",
   "id": "973fb02d",
   "metadata": {},
   "source": [
    "## 1- Numpy'ı dahil etme"
   ]
  },
  {
   "cell_type": "code",
   "execution_count": 12,
   "id": "2daeaeea",
   "metadata": {},
   "outputs": [],
   "source": [
    "import numpy as np"
   ]
  },
  {
   "cell_type": "markdown",
   "id": "e9e6760c",
   "metadata": {},
   "source": [
    "## 2 - Temeller"
   ]
  },
  {
   "cell_type": "markdown",
   "id": "5d610501",
   "metadata": {},
   "source": [
    "### 2.1 -  .array() ---> dizi oluşturma\n"
   ]
  },
  {
   "cell_type": "code",
   "execution_count": 20,
   "id": "584a6f43",
   "metadata": {},
   "outputs": [
    {
     "name": "stdout",
     "output_type": "stream",
     "text": [
      "[1 2 3]\n"
     ]
    }
   ],
   "source": [
    "#numpy kütüphanesinde array(dizi)'yi dahil edip içine liste ile elaman verdik, Tek boyutlu bir dizi\n",
    "#dtype kısmını eklemek zorunlu değil, default olarak ekleniyor, ama biz bu örnekte küçük sayılar kullandığımız için int16 yaptık\n",
    "\n",
    "a = np.array([1,2,3],dtype = \"int16\")\n",
    "print(a)\n"
   ]
  },
  {
   "cell_type": "code",
   "execution_count": 21,
   "id": "4185e843",
   "metadata": {},
   "outputs": [
    {
     "name": "stdout",
     "output_type": "stream",
     "text": [
      "[[9. 8. 7.]\n",
      " [6. 5. 4.]]\n"
     ]
    }
   ],
   "source": [
    "# burada da bir listenin içine oluşturduğumuz iki ayrı liste ile iki boyutlu bir dizi oluşturmuş olduk\n",
    "\n",
    "b = np.array( [[9.0, 8.0, 7.0], [6.0, 5.0, 4.0]] )\n",
    "print(b)\n"
   ]
  },
  {
   "cell_type": "markdown",
   "id": "add900c6",
   "metadata": {},
   "source": [
    "### 2.2 - .ndim ---> dizinin boyutunu öğrenme"
   ]
  },
  {
   "cell_type": "code",
   "execution_count": 36,
   "id": "d5d82f2e",
   "metadata": {},
   "outputs": [
    {
     "data": {
      "text/plain": [
       "2"
      ]
     },
     "execution_count": 36,
     "metadata": {},
     "output_type": "execute_result"
    }
   ],
   "source": [
    "a.ndim\n",
    "b.ndim"
   ]
  },
  {
   "cell_type": "markdown",
   "id": "959bb966",
   "metadata": {},
   "source": [
    "### 2.2.1 -  .shape ---> bir dizinin boyutunu (satır,sütun) şeklinde öğrenmek için\n"
   ]
  },
  {
   "cell_type": "code",
   "execution_count": 23,
   "id": "f127dea7",
   "metadata": {},
   "outputs": [
    {
     "data": {
      "text/plain": [
       "(2, 3)"
      ]
     },
     "execution_count": 23,
     "metadata": {},
     "output_type": "execute_result"
    }
   ],
   "source": [
    "a.shape #çıktı olarak (3,) verecektir bu da bu dizinin tek boyutlu olduğunu ve o boyutta 3 adet elamanı olduğunu anlatır \n",
    "\n",
    "b.shape #ama bu tek boyutlu olmadığından (satır,sütun) kalıbına uygun şekilde çıktı verecektir"
   ]
  },
  {
   "cell_type": "markdown",
   "id": "b78ac1e4",
   "metadata": {},
   "source": [
    "### 2.3 - .dtype ---> Dizinin Veri Tipini Öğrenme"
   ]
  },
  {
   "cell_type": "code",
   "execution_count": 26,
   "id": "4f1f0b9b",
   "metadata": {},
   "outputs": [
    {
     "data": {
      "text/plain": [
       "dtype('float64')"
      ]
     },
     "execution_count": 26,
     "metadata": {},
     "output_type": "execute_result"
    }
   ],
   "source": [
    "a.dtype # int32 çıktısını verecek\n",
    "b.dtype # float64 çıktısını verecek"
   ]
  },
  {
   "cell_type": "markdown",
   "id": "8c63a83e",
   "metadata": {},
   "source": [
    "### 2.4 - .itemsize ---> dizinin öğelerinin tek tek bellekte kaç byte kapladığını öğrenme"
   ]
  },
  {
   "cell_type": "code",
   "execution_count": 31,
   "id": "97237c12",
   "metadata": {},
   "outputs": [
    {
     "data": {
      "text/plain": [
       "2"
      ]
     },
     "execution_count": 31,
     "metadata": {},
     "output_type": "execute_result"
    }
   ],
   "source": [
    "#int16 yaptığımız için kapladığı alan daha az 32 yapsaydık iki katı kaplayacaktı\n",
    "a.itemsize "
   ]
  },
  {
   "cell_type": "markdown",
   "id": "7c5f27c7",
   "metadata": {},
   "source": [
    "### 2.4.1 - toplam alanı öğrenme"
   ]
  },
  {
   "cell_type": "code",
   "execution_count": 35,
   "id": "6e7ba56e",
   "metadata": {},
   "outputs": [
    {
     "data": {
      "text/plain": [
       "6"
      ]
     },
     "execution_count": 35,
     "metadata": {},
     "output_type": "execute_result"
    }
   ],
   "source": [
    "#size bize eleman sayısını verir itemsize her elemanın kapladığı alanı bunların çarpımı bize toplan kaplanan alanı verir\n",
    "\n",
    "a.size * a.itemsize\n",
    "\n",
    "#veya direkt olarak aşşağıdaki şekilde de alabiliriz bu değeri \n",
    "\n",
    "a.nbytes"
   ]
  }
 ],
 "metadata": {
  "kernelspec": {
   "display_name": "Python 3 (ipykernel)",
   "language": "python",
   "name": "python3"
  },
  "language_info": {
   "codemirror_mode": {
    "name": "ipython",
    "version": 3
   },
   "file_extension": ".py",
   "mimetype": "text/x-python",
   "name": "python",
   "nbconvert_exporter": "python",
   "pygments_lexer": "ipython3",
   "version": "3.11.5"
  }
 },
 "nbformat": 4,
 "nbformat_minor": 5
}
