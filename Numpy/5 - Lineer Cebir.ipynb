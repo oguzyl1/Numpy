{
 "cells": [
  {
   "cell_type": "markdown",
   "id": "29bd9da8",
   "metadata": {},
   "source": [
    "### !! Matrisi Kopyalarken dikkat"
   ]
  },
  {
   "cell_type": "code",
   "execution_count": 2,
   "id": "f8e334ac",
   "metadata": {},
   "outputs": [],
   "source": [
    "import numpy as np"
   ]
  },
  {
   "cell_type": "code",
   "execution_count": 3,
   "id": "befe050a",
   "metadata": {},
   "outputs": [
    {
     "data": {
      "text/plain": [
       "array([100,   2,   3])"
      ]
     },
     "execution_count": 3,
     "metadata": {},
     "output_type": "execute_result"
    }
   ],
   "source": [
    "a = np.array([1,2,3])\n",
    "b = a\n",
    "b\n",
    "# bu şekilde kopyalama yaparsak b'den bir elemanı değiştirdiğimizde a' da da değişme olacaktır örn:\n",
    "b[0] = 100 \n",
    "b # çıktı [100 , 2 , 3] olacak \n",
    "a # bununda çıktısı [100 , 2 , 3] olacak\n",
    "#yani ana matris değişmeden başka işlemler yapmak için bu şekilde kopyalama işlemi yaparsanız ana matrisi de değiştirirsiniz"
   ]
  },
  {
   "cell_type": "code",
   "execution_count": 4,
   "id": "1ae76c1c",
   "metadata": {},
   "outputs": [],
   "source": [
    "#bu sorunlar karşılaşmamak için aşağıdaki işlem yapılabilir \n",
    "c = np.array([1,2,3])\n",
    "d = c.copy()"
   ]
  },
  {
   "cell_type": "code",
   "execution_count": null,
   "id": "0fe2990e",
   "metadata": {},
   "outputs": [],
   "source": []
  },
  {
   "cell_type": "markdown",
   "id": "1c2ab113",
   "metadata": {},
   "source": [
    "## Matematik"
   ]
  },
  {
   "cell_type": "code",
   "execution_count": 5,
   "id": "96c949c5",
   "metadata": {},
   "outputs": [
    {
     "data": {
      "text/plain": [
       "array([1, 2, 3, 4])"
      ]
     },
     "execution_count": 5,
     "metadata": {},
     "output_type": "execute_result"
    }
   ],
   "source": [
    "arr = np.array([1,2,3,4])\n",
    "arr"
   ]
  },
  {
   "cell_type": "code",
   "execution_count": 6,
   "id": "28360774",
   "metadata": {},
   "outputs": [
    {
     "data": {
      "text/plain": [
       "array([0.5, 1. , 1.5, 2. ])"
      ]
     },
     "execution_count": 6,
     "metadata": {},
     "output_type": "execute_result"
    }
   ],
   "source": [
    "#bu şekilde 4 işlemi ve bununla beraber temel operatörleri de uygulayabiliriz += -= vs.\n",
    "arr + 2\n",
    "arr - 2\n",
    "arr * 2\n",
    "arr / 2"
   ]
  },
  {
   "cell_type": "code",
   "execution_count": 7,
   "id": "14f23186",
   "metadata": {},
   "outputs": [
    {
     "data": {
      "text/plain": [
       "array([1, 0, 1, 0])"
      ]
     },
     "execution_count": 7,
     "metadata": {},
     "output_type": "execute_result"
    }
   ],
   "source": [
    "arr2 = np.array([1,0,1,0])\n",
    "arr2"
   ]
  },
  {
   "cell_type": "code",
   "execution_count": 8,
   "id": "7be577b2",
   "metadata": {},
   "outputs": [
    {
     "data": {
      "text/plain": [
       "array([2, 2, 4, 4])"
      ]
     },
     "execution_count": 8,
     "metadata": {},
     "output_type": "execute_result"
    }
   ],
   "source": [
    "#iki matrisi de toplayabiliriz\n",
    "arr + arr2"
   ]
  },
  {
   "cell_type": "code",
   "execution_count": 9,
   "id": "8364a94a",
   "metadata": {},
   "outputs": [
    {
     "data": {
      "text/plain": [
       "array([ 1,  4,  9, 16])"
      ]
     },
     "execution_count": 9,
     "metadata": {},
     "output_type": "execute_result"
    }
   ],
   "source": [
    "#üs alma işlemi \n",
    "arr ** 2 "
   ]
  },
  {
   "cell_type": "code",
   "execution_count": 10,
   "id": "7189b539",
   "metadata": {},
   "outputs": [
    {
     "data": {
      "text/plain": [
       "array([ 0.54030231, -0.41614684, -0.9899925 , -0.65364362])"
      ]
     },
     "execution_count": 10,
     "metadata": {},
     "output_type": "execute_result"
    }
   ],
   "source": [
    "#sinus ve cosinus alma\n",
    "np.sin(arr)\n",
    "np.cos(arr)"
   ]
  },
  {
   "cell_type": "code",
   "execution_count": 11,
   "id": "d006b65a",
   "metadata": {},
   "outputs": [],
   "source": [
    "## daha fazla işlemi numpy.org üzerinden inceleyebilirsiniz"
   ]
  },
  {
   "cell_type": "markdown",
   "id": "db8a4c99",
   "metadata": {},
   "source": [
    "## Lineer Cebir"
   ]
  },
  {
   "cell_type": "code",
   "execution_count": 12,
   "id": "d65d8ff4",
   "metadata": {},
   "outputs": [],
   "source": [
    "a = np.ones((2,3))\n",
    "b = np.full((3,2),2)"
   ]
  },
  {
   "cell_type": "markdown",
   "id": "cdbb0bec",
   "metadata": {},
   "source": [
    "### Çarpma işlemi\n"
   ]
  },
  {
   "cell_type": "code",
   "execution_count": 13,
   "id": "dd51a675",
   "metadata": {},
   "outputs": [
    {
     "data": {
      "text/plain": [
       "array([[6., 6.],\n",
       "       [6., 6.]])"
      ]
     },
     "execution_count": 13,
     "metadata": {},
     "output_type": "execute_result"
    }
   ],
   "source": [
    "#çarpma işlemi yapılabilmesi için : birinci matrisin sütun sayısının ikinci matrisin satır sayısına eşit olmasıdır.\n",
    "np.matmul(a,b)"
   ]
  },
  {
   "cell_type": "markdown",
   "id": "9059a79f",
   "metadata": {},
   "source": [
    "### Determinant alma"
   ]
  },
  {
   "cell_type": "code",
   "execution_count": 18,
   "id": "2cafa6a2",
   "metadata": {},
   "outputs": [
    {
     "data": {
      "text/plain": [
       "1.0"
      ]
     },
     "execution_count": 18,
     "metadata": {},
     "output_type": "execute_result"
    }
   ],
   "source": [
    "#Determinant kare matrisler için hesaplanan reel sayı bir değerdir ve matrislerin tersinin bulunmasında\n",
    "# ve lineer denklem sistemlerinin çözümünde kullanılır.\n",
    "\n",
    "c = np.identity(3)\n",
    "np.linalg.det(c)"
   ]
  },
  {
   "cell_type": "markdown",
   "id": "0f245140",
   "metadata": {},
   "source": [
    "### Transpoze"
   ]
  },
  {
   "cell_type": "code",
   "execution_count": 22,
   "id": "dea0817f",
   "metadata": {},
   "outputs": [
    {
     "data": {
      "text/plain": [
       "array([[1, 4, 7],\n",
       "       [2, 5, 8],\n",
       "       [3, 6, 9]])"
      ]
     },
     "execution_count": 22,
     "metadata": {},
     "output_type": "execute_result"
    }
   ],
   "source": [
    "#orijinal matristeki satırların ve sütunların yer değiştirilmesiyle elde edilen yeni bir matristir\n",
    "c = np.array(([1,2,3],\n",
    "              [4,5,6],\n",
    "              [7,8,9]))\n",
    "\n",
    "np.transpose(c)"
   ]
  },
  {
   "cell_type": "markdown",
   "id": "41c9dd22",
   "metadata": {},
   "source": [
    "### Matrisin Tersi"
   ]
  },
  {
   "cell_type": "code",
   "execution_count": 23,
   "id": "23a77e0e",
   "metadata": {},
   "outputs": [
    {
     "data": {
      "text/plain": [
       "array([[ 3.15251974e+15, -6.30503948e+15,  3.15251974e+15],\n",
       "       [-6.30503948e+15,  1.26100790e+16, -6.30503948e+15],\n",
       "       [ 3.15251974e+15, -6.30503948e+15,  3.15251974e+15]])"
      ]
     },
     "execution_count": 23,
     "metadata": {},
     "output_type": "execute_result"
    }
   ],
   "source": [
    "#Bir matrisin tersi, matrisin kendisi ile çarpıldığına birim matrisi veren matristir.\n",
    "d = np.array(([1,2,3],\n",
    "              [4,5,6],\n",
    "              [7,8,9]))\n",
    "\n",
    "np.linalg.inv(d)"
   ]
  },
  {
   "cell_type": "markdown",
   "id": "308bf75e",
   "metadata": {},
   "source": [
    "### Çözümleme"
   ]
  },
  {
   "cell_type": "code",
   "execution_count": null,
   "id": "b890eb4b",
   "metadata": {},
   "outputs": [],
   "source": [
    "#bir matrisin bir vektöre çarpılması sonucu başka bir vektörü veren lineer bir denklem sisteminin çözümünü bulma işlemidir.\n",
    "\n"
   ]
  }
 ],
 "metadata": {
  "kernelspec": {
   "display_name": "Python 3 (ipykernel)",
   "language": "python",
   "name": "python3"
  },
  "language_info": {
   "codemirror_mode": {
    "name": "ipython",
    "version": 3
   },
   "file_extension": ".py",
   "mimetype": "text/x-python",
   "name": "python",
   "nbconvert_exporter": "python",
   "pygments_lexer": "ipython3",
   "version": "3.11.5"
  }
 },
 "nbformat": 4,
 "nbformat_minor": 5
}
