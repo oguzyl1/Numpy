{
 "cells": [
  {
   "cell_type": "code",
   "execution_count": 1,
   "id": "cbe23fee",
   "metadata": {},
   "outputs": [],
   "source": [
    "import numpy as np"
   ]
  },
  {
   "cell_type": "code",
   "execution_count": 2,
   "id": "50fe7453",
   "metadata": {},
   "outputs": [
    {
     "data": {
      "text/plain": [
       "array([[1, 2, 3],\n",
       "       [4, 5, 6]])"
      ]
     },
     "execution_count": 2,
     "metadata": {},
     "output_type": "execute_result"
    }
   ],
   "source": [
    "a = np.array(([1,2,3],[4,5,6]))\n",
    "a"
   ]
  },
  {
   "cell_type": "code",
   "execution_count": 5,
   "id": "6ecd241f",
   "metadata": {},
   "outputs": [
    {
     "data": {
      "text/plain": [
       "6"
      ]
     },
     "execution_count": 5,
     "metadata": {},
     "output_type": "execute_result"
    }
   ],
   "source": [
    "# minimum ve maksimum değeri bulma\n",
    "np.min(a)\n",
    "np.max(a)"
   ]
  },
  {
   "cell_type": "code",
   "execution_count": 6,
   "id": "7989d8b8",
   "metadata": {},
   "outputs": [
    {
     "data": {
      "text/plain": [
       "array([1, 4])"
      ]
     },
     "execution_count": 6,
     "metadata": {},
     "output_type": "execute_result"
    }
   ],
   "source": [
    "# aynı şekilde satır bazında min max işlemi de yaptırabiliriz\n",
    "np.min(a,axis=1)"
   ]
  },
  {
   "cell_type": "code",
   "execution_count": 7,
   "id": "d1cc7f60",
   "metadata": {},
   "outputs": [
    {
     "data": {
      "text/plain": [
       "21"
      ]
     },
     "execution_count": 7,
     "metadata": {},
     "output_type": "execute_result"
    }
   ],
   "source": [
    "# matrisin elemanlarının toplamını alma\n",
    "np.sum(a)"
   ]
  },
  {
   "cell_type": "markdown",
   "id": "2ad47280",
   "metadata": {},
   "source": [
    "### Matrisin boyutunu değiştirme"
   ]
  },
  {
   "cell_type": "code",
   "execution_count": 20,
   "id": "72397286",
   "metadata": {},
   "outputs": [
    {
     "data": {
      "text/plain": [
       "8"
      ]
     },
     "execution_count": 20,
     "metadata": {},
     "output_type": "execute_result"
    }
   ],
   "source": [
    "#elimizde aşağıdaki matris olsun \n",
    "onceki_boyut = np.array([[1,2,3,4],\n",
    "                        [5,6,7,8]])\n",
    "#(2,4) lük bir matris var elimizde biz bunu istediğimiz şekilde şekillendirebiliriz ((a,b,c) --> a*b*c = matris.size)\n",
    "onceki_boyut.shape"
   ]
  },
  {
   "cell_type": "code",
   "execution_count": 22,
   "id": "c47e9e51",
   "metadata": {},
   "outputs": [
    {
     "data": {
      "text/plain": [
       "array([[1, 2, 3, 4],\n",
       "       [5, 6, 7, 8]])"
      ]
     },
     "execution_count": 22,
     "metadata": {},
     "output_type": "execute_result"
    }
   ],
   "source": [
    "sekillendirilmis_matris = onceki_boyut.reshape((2,4))\n",
    "sekillendirilmis_matris"
   ]
  },
  {
   "cell_type": "markdown",
   "id": "ebdc3ad5",
   "metadata": {},
   "source": [
    "### Vektörleri birleştirme (dikey olarak)"
   ]
  },
  {
   "cell_type": "code",
   "execution_count": 24,
   "id": "a8b29e1f",
   "metadata": {},
   "outputs": [
    {
     "data": {
      "text/plain": [
       "array([[1, 2, 3, 4],\n",
       "       [5, 6, 7, 8],\n",
       "       [1, 2, 3, 4],\n",
       "       [5, 6, 7, 8]])"
      ]
     },
     "execution_count": 24,
     "metadata": {},
     "output_type": "execute_result"
    }
   ],
   "source": [
    "v1 = np.array([1,2,3,4])\n",
    "v2 = np.array([5,6,7,8])\n",
    "\n",
    "np.vstack([v1,v2,v1,v2])"
   ]
  },
  {
   "cell_type": "markdown",
   "id": "fb0ddb01",
   "metadata": {},
   "source": [
    "### Vektörleri birleştirme (yatay olarak)"
   ]
  },
  {
   "cell_type": "code",
   "execution_count": 27,
   "id": "4bbd7885",
   "metadata": {},
   "outputs": [
    {
     "data": {
      "text/plain": [
       "array([[1., 1., 1., 1., 0., 0.],\n",
       "       [1., 1., 1., 1., 0., 0.]])"
      ]
     },
     "execution_count": 27,
     "metadata": {},
     "output_type": "execute_result"
    }
   ],
   "source": [
    "h1 = np.ones((2,4))\n",
    "h2 = np.zeros((2,2))\n",
    "\n",
    "np.hstack([h1,h2])"
   ]
  },
  {
   "cell_type": "code",
   "execution_count": null,
   "id": "85adbe89",
   "metadata": {},
   "outputs": [],
   "source": []
  },
  {
   "cell_type": "code",
   "execution_count": null,
   "id": "d550bd8b",
   "metadata": {},
   "outputs": [],
   "source": []
  },
  {
   "cell_type": "markdown",
   "id": "014ce64b",
   "metadata": {},
   "source": [
    "### Çeşitli İşlemler"
   ]
  },
  {
   "cell_type": "markdown",
   "id": "0a7ed563",
   "metadata": {},
   "source": [
    "#### Dosyadan data yükleme"
   ]
  },
  {
   "cell_type": "code",
   "execution_count": 50,
   "id": "bc97ca92",
   "metadata": {},
   "outputs": [
    {
     "data": {
      "text/plain": [
       "array([[  1,  13,  21,  11, 196,  75,   4,   3,  34,   6,   7,   8,   0,\n",
       "          1,   2,   3,   4,   5],\n",
       "       [  3,  42,  12,  33, 766,  75,   4,  55,   6,   4,   3,   4,   5,\n",
       "          6,   7,   0,  11,  12],\n",
       "       [  1,  22,  33,  11, 999,  11,   2,   1,  78,   0,   1,   2,   9,\n",
       "          8,   7,   1,  76,  88]])"
      ]
     },
     "execution_count": 50,
     "metadata": {},
     "output_type": "execute_result"
    }
   ],
   "source": [
    "#dosyayı sisteme aktardık\n",
    "file_data = np.genfromtxt(\"data.txt\",delimiter=\",\")\n",
    "file_data = file_data.astype(\"int32\")\n",
    "file_data"
   ]
  },
  {
   "cell_type": "code",
   "execution_count": 52,
   "id": "88c0ccfa",
   "metadata": {},
   "outputs": [
    {
     "data": {
      "text/plain": [
       "array([[  1,  13,  21,  11, 196,  75],\n",
       "       [  4,   3,  34,   6,   7,   8],\n",
       "       [  0,   1,   2,   3,   4,   5],\n",
       "       [  3,  42,  12,  33, 766,  75],\n",
       "       [  4,  55,   6,   4,   3,   4],\n",
       "       [  5,   6,   7,   0,  11,  12],\n",
       "       [  1,  22,  33,  11, 999,  11],\n",
       "       [  2,   1,  78,   0,   1,   2],\n",
       "       [  9,   8,   7,   1,  76,  88]])"
      ]
     },
     "execution_count": 52,
     "metadata": {},
     "output_type": "execute_result"
    }
   ],
   "source": [
    "new_file_data = file_data.reshape((9,6))\n",
    "new_file_data"
   ]
  },
  {
   "cell_type": "code",
   "execution_count": null,
   "id": "e463ef54",
   "metadata": {},
   "outputs": [],
   "source": []
  },
  {
   "cell_type": "markdown",
   "id": "b5caa11b",
   "metadata": {},
   "source": [
    "### Boolean Masking ve Gelişmiş İndexleme"
   ]
  },
  {
   "cell_type": "code",
   "execution_count": 53,
   "id": "d24e1f6e",
   "metadata": {},
   "outputs": [
    {
     "data": {
      "text/plain": [
       "array([[False, False, False, False,  True,  True],\n",
       "       [False, False, False, False, False, False],\n",
       "       [False, False, False, False, False, False],\n",
       "       [False, False, False, False,  True,  True],\n",
       "       [False,  True, False, False, False, False],\n",
       "       [False, False, False, False, False, False],\n",
       "       [False, False, False, False,  True, False],\n",
       "       [False, False,  True, False, False, False],\n",
       "       [False, False, False, False,  True,  True]])"
      ]
     },
     "execution_count": 53,
     "metadata": {},
     "output_type": "execute_result"
    }
   ],
   "source": [
    "#bu şekilde yaparsak bize true false değerlerini gösterir\n",
    "new_file_data > 50"
   ]
  },
  {
   "cell_type": "code",
   "execution_count": 55,
   "id": "90ceaf52",
   "metadata": {},
   "outputs": [
    {
     "data": {
      "text/plain": [
       "array([196,  75, 766,  75,  55, 999,  78,  76,  88])"
      ]
     },
     "execution_count": 55,
     "metadata": {},
     "output_type": "execute_result"
    }
   ],
   "source": [
    "#ama bu şekilde yaparsak bize büyük olan değerlerin dizisini verir\n",
    "new_file_data[new_file_data>50]"
   ]
  },
  {
   "cell_type": "code",
   "execution_count": 58,
   "id": "eadf261e",
   "metadata": {},
   "outputs": [
    {
     "data": {
      "text/plain": [
       "True"
      ]
     },
     "execution_count": 58,
     "metadata": {},
     "output_type": "execute_result"
    }
   ],
   "source": [
    "#herhangi bir elemanın 50den büyük olup olmadığını kontrol eder 1 tane bile büyük varsa true döner \n",
    "np.any(new_file_data > 50)"
   ]
  },
  {
   "cell_type": "code",
   "execution_count": 60,
   "id": "f93f94be",
   "metadata": {},
   "outputs": [
    {
     "data": {
      "text/plain": [
       "array([False,  True,  True, False,  True,  True])"
      ]
     },
     "execution_count": 60,
     "metadata": {},
     "output_type": "execute_result"
    }
   ],
   "source": [
    "#sütunlara bakar çıktıdaki her bir ifade sırasıyla sütunları ifade eder\n",
    "np.any(new_file_data > 50, axis=0)"
   ]
  },
  {
   "cell_type": "code",
   "execution_count": 61,
   "id": "519eca50",
   "metadata": {},
   "outputs": [
    {
     "data": {
      "text/plain": [
       "array([ True, False, False,  True,  True, False,  True,  True,  True])"
      ]
     },
     "execution_count": 61,
     "metadata": {},
     "output_type": "execute_result"
    }
   ],
   "source": [
    "#satırları ifade eder yukarıdakiyle aynı mantıkta \n",
    "np.any(new_file_data > 50 , axis=1)"
   ]
  },
  {
   "cell_type": "code",
   "execution_count": 62,
   "id": "d0cbee38",
   "metadata": {},
   "outputs": [
    {
     "data": {
      "text/plain": [
       "array([[False, False, False, False, False,  True],\n",
       "       [False, False, False, False, False, False],\n",
       "       [False, False, False, False, False, False],\n",
       "       [False, False, False, False, False,  True],\n",
       "       [False,  True, False, False, False, False],\n",
       "       [False, False, False, False, False, False],\n",
       "       [False, False, False, False, False, False],\n",
       "       [False, False,  True, False, False, False],\n",
       "       [False, False, False, False,  True,  True]])"
      ]
     },
     "execution_count": 62,
     "metadata": {},
     "output_type": "execute_result"
    }
   ],
   "source": [
    "#bu şekilde if else işlemlerinde kullandığımız operatörlerle işlemler yapılabilir\n",
    "((new_file_data>50) & (new_file_data<100))"
   ]
  },
  {
   "cell_type": "code",
   "execution_count": 64,
   "id": "63070a03",
   "metadata": {},
   "outputs": [
    {
     "data": {
      "text/plain": [
       "array([75, 75, 55, 78, 76, 88])"
      ]
     },
     "execution_count": 64,
     "metadata": {},
     "output_type": "execute_result"
    }
   ],
   "source": [
    "#bu kullanımla da direkt olarak şartı sağlayan ifadeleri görebiliriz\n",
    "new_file_data[((new_file_data>50) & (new_file_data<100))]"
   ]
  },
  {
   "cell_type": "code",
   "execution_count": 65,
   "id": "3ebb4063",
   "metadata": {},
   "outputs": [
    {
     "data": {
      "text/plain": [
       "array([[ True,  True,  True,  True, False, False],\n",
       "       [ True,  True,  True,  True,  True,  True],\n",
       "       [ True,  True,  True,  True,  True,  True],\n",
       "       [ True,  True,  True,  True, False, False],\n",
       "       [ True, False,  True,  True,  True,  True],\n",
       "       [ True,  True,  True,  True,  True,  True],\n",
       "       [ True,  True,  True,  True, False,  True],\n",
       "       [ True,  True, False,  True,  True,  True],\n",
       "       [ True,  True,  True,  True, False, False]])"
      ]
     },
     "execution_count": 65,
     "metadata": {},
     "output_type": "execute_result"
    }
   ],
   "source": [
    "#yukarıdaki ifadenin tam tersini almak istiyorsak \n",
    "(~(new_file_data>50) & (new_file_data<100))"
   ]
  },
  {
   "cell_type": "code",
   "execution_count": null,
   "id": "bf10af86",
   "metadata": {},
   "outputs": [],
   "source": []
  }
 ],
 "metadata": {
  "kernelspec": {
   "display_name": "Python 3 (ipykernel)",
   "language": "python",
   "name": "python3"
  },
  "language_info": {
   "codemirror_mode": {
    "name": "ipython",
    "version": 3
   },
   "file_extension": ".py",
   "mimetype": "text/x-python",
   "name": "python",
   "nbconvert_exporter": "python",
   "pygments_lexer": "ipython3",
   "version": "3.11.5"
  }
 },
 "nbformat": 4,
 "nbformat_minor": 5
}
