{
 "cells": [
  {
   "cell_type": "markdown",
   "id": "ad713083",
   "metadata": {},
   "source": [
    "### Tamamı 0 olan matris oluşturma"
   ]
  },
  {
   "cell_type": "code",
   "execution_count": 1,
   "id": "13f8972f",
   "metadata": {},
   "outputs": [],
   "source": [
    "import numpy as np"
   ]
  },
  {
   "cell_type": "code",
   "execution_count": 2,
   "id": "e585da6a",
   "metadata": {},
   "outputs": [
    {
     "data": {
      "text/plain": [
       "array([0., 0., 0., 0., 0.])"
      ]
     },
     "execution_count": 2,
     "metadata": {},
     "output_type": "execute_result"
    }
   ],
   "source": [
    "np.zeros(5)"
   ]
  },
  {
   "cell_type": "code",
   "execution_count": 3,
   "id": "ec29d5c1",
   "metadata": {},
   "outputs": [
    {
     "data": {
      "text/plain": [
       "array([[0., 0., 0.],\n",
       "       [0., 0., 0.]])"
      ]
     },
     "execution_count": 3,
     "metadata": {},
     "output_type": "execute_result"
    }
   ],
   "source": [
    "np.zeros((2,3))"
   ]
  },
  {
   "cell_type": "code",
   "execution_count": 4,
   "id": "94103880",
   "metadata": {},
   "outputs": [
    {
     "data": {
      "text/plain": [
       "array([[[0., 0., 0., 0., 0.],\n",
       "        [0., 0., 0., 0., 0.],\n",
       "        [0., 0., 0., 0., 0.]],\n",
       "\n",
       "       [[0., 0., 0., 0., 0.],\n",
       "        [0., 0., 0., 0., 0.],\n",
       "        [0., 0., 0., 0., 0.]]])"
      ]
     },
     "execution_count": 4,
     "metadata": {},
     "output_type": "execute_result"
    }
   ],
   "source": [
    "np.zeros((2,3,5))"
   ]
  },
  {
   "cell_type": "code",
   "execution_count": 6,
   "id": "6b211701",
   "metadata": {},
   "outputs": [],
   "source": [
    "#istediğimiz boyutta matris oluşturabiliriz bu şekilde "
   ]
  },
  {
   "cell_type": "markdown",
   "id": "27581c95",
   "metadata": {},
   "source": [
    "### Tamamı 1 olan matris"
   ]
  },
  {
   "cell_type": "code",
   "execution_count": 7,
   "id": "dbf67927",
   "metadata": {},
   "outputs": [
    {
     "data": {
      "text/plain": [
       "array([1., 1., 1., 1., 1.])"
      ]
     },
     "execution_count": 7,
     "metadata": {},
     "output_type": "execute_result"
    }
   ],
   "source": [
    "np.ones(5)"
   ]
  },
  {
   "cell_type": "code",
   "execution_count": 8,
   "id": "3dab4f4d",
   "metadata": {},
   "outputs": [
    {
     "data": {
      "text/plain": [
       "array([[1., 1., 1., 1.],\n",
       "       [1., 1., 1., 1.],\n",
       "       [1., 1., 1., 1.],\n",
       "       [1., 1., 1., 1.],\n",
       "       [1., 1., 1., 1.]])"
      ]
     },
     "execution_count": 8,
     "metadata": {},
     "output_type": "execute_result"
    }
   ],
   "source": [
    "np.ones((5,4))"
   ]
  },
  {
   "cell_type": "code",
   "execution_count": 10,
   "id": "1da18ea0",
   "metadata": {},
   "outputs": [
    {
     "data": {
      "text/plain": [
       "array([[[1., 1., 1., 1., 1.],\n",
       "        [1., 1., 1., 1., 1.],\n",
       "        [1., 1., 1., 1., 1.]],\n",
       "\n",
       "       [[1., 1., 1., 1., 1.],\n",
       "        [1., 1., 1., 1., 1.],\n",
       "        [1., 1., 1., 1., 1.]]])"
      ]
     },
     "execution_count": 10,
     "metadata": {},
     "output_type": "execute_result"
    }
   ],
   "source": [
    "np.ones((2,3,5))"
   ]
  },
  {
   "cell_type": "markdown",
   "id": "34c2d1f4",
   "metadata": {},
   "source": [
    "### Tamamı istediğimiz sayıdan oluşan matris "
   ]
  },
  {
   "cell_type": "code",
   "execution_count": 11,
   "id": "90ab5366",
   "metadata": {},
   "outputs": [
    {
     "data": {
      "text/plain": [
       "array([[[32, 32],\n",
       "        [32, 32]],\n",
       "\n",
       "       [[32, 32],\n",
       "        [32, 32]]])"
      ]
     },
     "execution_count": 11,
     "metadata": {},
     "output_type": "execute_result"
    }
   ],
   "source": [
    "np.full((2,2,2), 32)"
   ]
  },
  {
   "cell_type": "markdown",
   "id": "9507a37c",
   "metadata": {},
   "source": [
    "### Bir matrisin boyutlarını kullanarak istediğimiz sayıdan oluşan matris oluşturma"
   ]
  },
  {
   "cell_type": "code",
   "execution_count": 13,
   "id": "c196671e",
   "metadata": {},
   "outputs": [
    {
     "data": {
      "text/plain": [
       "array([[ 1,  2,  3,  4,  5,  6,  7],\n",
       "       [ 8,  9, 10, 11, 12, 13, 14]])"
      ]
     },
     "execution_count": 13,
     "metadata": {},
     "output_type": "execute_result"
    }
   ],
   "source": [
    "a = np.array([[1,2,3,4,5,6,7],[8,9,10,11,12,13,14]])\n",
    "a"
   ]
  },
  {
   "cell_type": "code",
   "execution_count": 15,
   "id": "18a2a56e",
   "metadata": {},
   "outputs": [
    {
     "data": {
      "text/plain": [
       "array([[4, 4, 4, 4, 4, 4, 4],\n",
       "       [4, 4, 4, 4, 4, 4, 4]])"
      ]
     },
     "execution_count": 15,
     "metadata": {},
     "output_type": "execute_result"
    }
   ],
   "source": [
    "#a matrisi ile aynı boyutlara sahip 4 lerden oluşan matris oluşturma\n",
    "np.full_like(a,4)"
   ]
  },
  {
   "cell_type": "markdown",
   "id": "d477a82c",
   "metadata": {},
   "source": [
    "### Random sayılarla matris oluşturma "
   ]
  },
  {
   "cell_type": "code",
   "execution_count": 16,
   "id": "024a9cba",
   "metadata": {},
   "outputs": [
    {
     "data": {
      "text/plain": [
       "array([[0.31798312, 0.15943629],\n",
       "       [0.58071093, 0.30421865],\n",
       "       [0.14319097, 0.49584615],\n",
       "       [0.61903539, 0.55056226],\n",
       "       [0.72105594, 0.52684643]])"
      ]
     },
     "execution_count": 16,
     "metadata": {},
     "output_type": "execute_result"
    }
   ],
   "source": [
    "#5 e 2 lik bir matris oluşturup bunun elemanlarını random olarak atar \n",
    "np.random.rand(5,2)"
   ]
  },
  {
   "cell_type": "code",
   "execution_count": 17,
   "id": "118298b5",
   "metadata": {},
   "outputs": [
    {
     "data": {
      "text/plain": [
       "array([[[0.89626158, 0.31902713, 0.82415319],\n",
       "        [0.61499601, 0.22993806, 0.19648531]],\n",
       "\n",
       "       [[0.96274169, 0.60706675, 0.12220699],\n",
       "        [0.97076832, 0.21770406, 0.12871679]],\n",
       "\n",
       "       [[0.54941099, 0.78948007, 0.7296286 ],\n",
       "        [0.82791521, 0.41559961, 0.19938983]],\n",
       "\n",
       "       [[0.28661256, 0.51128271, 0.36723712],\n",
       "        [0.00966496, 0.18989765, 0.45802554]],\n",
       "\n",
       "       [[0.99436686, 0.92782335, 0.15719683],\n",
       "        [0.49201836, 0.65120511, 0.35999018]]])"
      ]
     },
     "execution_count": 17,
     "metadata": {},
     "output_type": "execute_result"
    }
   ],
   "source": [
    "np.random.rand(5,2,3)"
   ]
  },
  {
   "cell_type": "code",
   "execution_count": 22,
   "id": "d26b7750",
   "metadata": {},
   "outputs": [
    {
     "data": {
      "text/plain": [
       "array([[0.834588  , 0.53036667, 0.98414886, 0.55612662, 0.70931386,\n",
       "        0.45730873, 0.30938363],\n",
       "       [0.31946954, 0.70837064, 0.44299721, 0.00752792, 0.8067791 ,\n",
       "        0.499314  , 0.40136673]])"
      ]
     },
     "execution_count": 22,
     "metadata": {},
     "output_type": "execute_result"
    }
   ],
   "source": [
    "#varolan bir matrisin boyutlarında rastgele matris oluşturma\n",
    "\n",
    "np.random.random_sample(a.shape)"
   ]
  },
  {
   "cell_type": "markdown",
   "id": "6fba78ab",
   "metadata": {},
   "source": [
    "### Integer random değerlerle dizi oluşturma"
   ]
  },
  {
   "cell_type": "code",
   "execution_count": 26,
   "id": "78a2e816",
   "metadata": {},
   "outputs": [
    {
     "data": {
      "text/plain": [
       "array([[4, 5, 1, 4, 4, 6, 6],\n",
       "       [5, 5, 6, 1, 3, 5, 5],\n",
       "       [2, 6, 5, 6, 6, 1, 3],\n",
       "       [2, 1, 3, 1, 3, 6, 3],\n",
       "       [5, 6, 6, 3, 6, 2, 1]])"
      ]
     },
     "execution_count": 26,
     "metadata": {},
     "output_type": "execute_result"
    }
   ],
   "source": [
    "np.random.randint(1,7,size = (5,7))"
   ]
  },
  {
   "cell_type": "markdown",
   "id": "9b09d6ed",
   "metadata": {},
   "source": [
    "### Birim Matris oluşturma"
   ]
  },
  {
   "cell_type": "code",
   "execution_count": 31,
   "id": "4459583f",
   "metadata": {},
   "outputs": [
    {
     "data": {
      "text/plain": [
       "array([[1., 0., 0., 0., 0.],\n",
       "       [0., 1., 0., 0., 0.],\n",
       "       [0., 0., 1., 0., 0.],\n",
       "       [0., 0., 0., 1., 0.],\n",
       "       [0., 0., 0., 0., 1.]])"
      ]
     },
     "execution_count": 31,
     "metadata": {},
     "output_type": "execute_result"
    }
   ],
   "source": [
    "np.identity(5)"
   ]
  },
  {
   "cell_type": "code",
   "execution_count": 35,
   "id": "98b8a49c",
   "metadata": {},
   "outputs": [
    {
     "name": "stdout",
     "output_type": "stream",
     "text": [
      "[[1 2 3]\n",
      " [1 2 3]\n",
      " [1 2 3]]\n"
     ]
    }
   ],
   "source": [
    "#dizinin elemanlarını tekrarlama\n",
    "arr = np.array([[1,2,3]])\n",
    "r1 = np.repeat(arr,3,axis=0)\n",
    "print(r1)"
   ]
  },
  {
   "cell_type": "code",
   "execution_count": null,
   "id": "2d9bf18c",
   "metadata": {},
   "outputs": [],
   "source": []
  }
 ],
 "metadata": {
  "kernelspec": {
   "display_name": "Python 3 (ipykernel)",
   "language": "python",
   "name": "python3"
  },
  "language_info": {
   "codemirror_mode": {
    "name": "ipython",
    "version": 3
   },
   "file_extension": ".py",
   "mimetype": "text/x-python",
   "name": "python",
   "nbconvert_exporter": "python",
   "pygments_lexer": "ipython3",
   "version": "3.11.5"
  }
 },
 "nbformat": 4,
 "nbformat_minor": 5
}
