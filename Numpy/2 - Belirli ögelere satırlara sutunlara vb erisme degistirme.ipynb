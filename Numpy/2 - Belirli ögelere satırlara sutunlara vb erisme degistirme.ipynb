{
 "cells": [
  {
   "cell_type": "markdown",
   "id": "82ef166d",
   "metadata": {},
   "source": [
    "##  3 - Belirli öğelere, satırlara, sütunlara vb. erişme/değiştirme\n"
   ]
  },
  {
   "cell_type": "code",
   "execution_count": 1,
   "id": "04f9abb7",
   "metadata": {},
   "outputs": [],
   "source": [
    "import numpy as np"
   ]
  },
  {
   "cell_type": "code",
   "execution_count": 4,
   "id": "d9313f24",
   "metadata": {},
   "outputs": [
    {
     "name": "stdout",
     "output_type": "stream",
     "text": [
      "[[ 1  2  3  4  5  6  7]\n",
      " [ 8  9 10 11 12 13 14]]\n"
     ]
    }
   ],
   "source": [
    "a = np.array([[1,2,3,4,5,6,7],[8,9,10,11,12,13,14]])\n",
    "print(a)"
   ]
  },
  {
   "cell_type": "markdown",
   "id": "9dbf0748",
   "metadata": {},
   "source": [
    "### Belirli bir elemana erişme , [satır , sütun]"
   ]
  },
  {
   "cell_type": "code",
   "execution_count": 7,
   "id": "db275dc1",
   "metadata": {},
   "outputs": [
    {
     "data": {
      "text/plain": [
       "13"
      ]
     },
     "execution_count": 7,
     "metadata": {},
     "output_type": "execute_result"
    }
   ],
   "source": [
    "# 1. satır 5. sütuna eriştik (indexler 0 dan başlıyor)\n",
    "\n",
    "a[1,5]\n",
    "\n",
    "# aynı zamanda negatif indexleme de yapılabilir aşağıdaki ifade yukarıdaki ile aynı elamanı verir\n",
    "\n",
    "a[1, -2]"
   ]
  },
  {
   "cell_type": "markdown",
   "id": "f775f37e",
   "metadata": {},
   "source": [
    "### Belirli bir satıra erişme"
   ]
  },
  {
   "cell_type": "code",
   "execution_count": 8,
   "id": "5ecb0fc1",
   "metadata": {},
   "outputs": [
    {
     "data": {
      "text/plain": [
       "array([ 8,  9, 10, 11, 12, 13, 14])"
      ]
     },
     "execution_count": 8,
     "metadata": {},
     "output_type": "execute_result"
    }
   ],
   "source": [
    "a[1,:]"
   ]
  },
  {
   "cell_type": "markdown",
   "id": "9ca7f156",
   "metadata": {},
   "source": [
    "### Belirli bir sütuna erişme"
   ]
  },
  {
   "cell_type": "code",
   "execution_count": 9,
   "id": "95eeece7",
   "metadata": {},
   "outputs": [
    {
     "data": {
      "text/plain": [
       "array([ 3, 10])"
      ]
     },
     "execution_count": 9,
     "metadata": {},
     "output_type": "execute_result"
    }
   ],
   "source": [
    "a[:,2]"
   ]
  },
  {
   "cell_type": "markdown",
   "id": "bcd91ab2",
   "metadata": {},
   "source": [
    "### Belli bir aralıktaki elemanları alma , [startindex : endindex : stepsize]"
   ]
  },
  {
   "cell_type": "code",
   "execution_count": 11,
   "id": "682437e4",
   "metadata": {},
   "outputs": [
    {
     "data": {
      "text/plain": [
       "array([2, 4, 6])"
      ]
     },
     "execution_count": 11,
     "metadata": {},
     "output_type": "execute_result"
    }
   ],
   "source": [
    "# ilk satır içinde işlem yaptık 1. indexten başlayıp 6. indexe kadar 2 şer 2 şer atladık\n",
    "\n",
    "a[0, 1:6:2]"
   ]
  },
  {
   "cell_type": "markdown",
   "id": "9535d46d",
   "metadata": {},
   "source": [
    "### Elemanın değerini değiştirme"
   ]
  },
  {
   "cell_type": "code",
   "execution_count": 16,
   "id": "7336df3d",
   "metadata": {},
   "outputs": [
    {
     "name": "stdout",
     "output_type": "stream",
     "text": [
      "[[ 1  2  3  4  5  6  7]\n",
      " [ 8  9 10 11 12 20 14]]\n"
     ]
    }
   ],
   "source": [
    "#2. satır 6. sütundaki elemanı(13 sayısını) 20 ile değiştirdik\n",
    "a[1,5] = 20\n",
    "print(a)"
   ]
  },
  {
   "cell_type": "code",
   "execution_count": 19,
   "id": "3348259c",
   "metadata": {},
   "outputs": [
    {
     "name": "stdout",
     "output_type": "stream",
     "text": [
      "[[ 1  2  5  4  5  6  7]\n",
      " [ 8  9  5 11 12 20 14]]\n"
     ]
    }
   ],
   "source": [
    "#farklı kullanımları ---> 2. indexteki kolonun elemanlarını güncelledik \n",
    "a[:,2] = 5\n",
    "print(a)"
   ]
  },
  {
   "cell_type": "code",
   "execution_count": 21,
   "id": "769a3747",
   "metadata": {},
   "outputs": [
    {
     "name": "stdout",
     "output_type": "stream",
     "text": [
      "[[ 1  2  1  4  5  6  7]\n",
      " [ 8  9  2 11 12 20 14]]\n"
     ]
    }
   ],
   "source": [
    "#farklı değerler vermek istersek\n",
    "a[:,2] = [1,2]\n",
    "print(a)"
   ]
  },
  {
   "cell_type": "code",
   "execution_count": null,
   "id": "09d85611",
   "metadata": {},
   "outputs": [],
   "source": []
  },
  {
   "cell_type": "markdown",
   "id": "6c9561fb",
   "metadata": {},
   "source": [
    "## Örnek (3 boyutlu dizi)"
   ]
  },
  {
   "cell_type": "code",
   "execution_count": 28,
   "id": "0c7d6af0",
   "metadata": {},
   "outputs": [
    {
     "name": "stdout",
     "output_type": "stream",
     "text": [
      "[[[1 2]\n",
      "  [3 4]]\n",
      "\n",
      " [[5 6]\n",
      "  [7 8]]]\n"
     ]
    }
   ],
   "source": [
    "b = np.array([[[1,2],[3,4]],[[5,6],[7,8]]])\n",
    "print(b)"
   ]
  },
  {
   "cell_type": "code",
   "execution_count": 30,
   "id": "279defa6",
   "metadata": {},
   "outputs": [
    {
     "data": {
      "text/plain": [
       "4"
      ]
     },
     "execution_count": 30,
     "metadata": {},
     "output_type": "execute_result"
    }
   ],
   "source": [
    "#0. index dediğimizde 1,2/3,4 e erişiyoruz , 1 dediğimizde 3,4 de erişiriyoruz  tekrar 1 dediğimizde 4 e erişiyoruz\n",
    "\n",
    "b[0,1,1]"
   ]
  },
  {
   "cell_type": "code",
   "execution_count": 32,
   "id": "7f6dafb1",
   "metadata": {},
   "outputs": [
    {
     "data": {
      "text/plain": [
       "array([[[1, 2],\n",
       "        [9, 9]],\n",
       "\n",
       "       [[5, 6],\n",
       "        [8, 8]]])"
      ]
     },
     "execution_count": 32,
     "metadata": {},
     "output_type": "execute_result"
    }
   ],
   "source": [
    "#değiştirme işlemi yapmak istediğimizde\n",
    "\n",
    "b[:,1,:] = [[9,9],[8,8]]\n",
    "b"
   ]
  },
  {
   "cell_type": "markdown",
   "id": "94b612c2",
   "metadata": {},
   "source": [
    "[:,1,:] bunu şöyle düşünelim dıştan içe doğru\n",
    "öncelikle ilk \":\" işareti tüm diziyi seçmemizi sağlar, \"1\" ise bu dizi içindeki dizlerin 1. indexlerini seçmeye yarar\n",
    "son \":\" işareti ise dizilerin içindeki 1. indekslerin hepsini seçmemize yarar ve eşitlik verip değiştirme işlemi yaptığımızda ise yukarıdan aşağı doğru değişim gerçekleşir"
   ]
  }
 ],
 "metadata": {
  "kernelspec": {
   "display_name": "Python 3 (ipykernel)",
   "language": "python",
   "name": "python3"
  },
  "language_info": {
   "codemirror_mode": {
    "name": "ipython",
    "version": 3
   },
   "file_extension": ".py",
   "mimetype": "text/x-python",
   "name": "python",
   "nbconvert_exporter": "python",
   "pygments_lexer": "ipython3",
   "version": "3.11.5"
  }
 },
 "nbformat": 4,
 "nbformat_minor": 5
}
